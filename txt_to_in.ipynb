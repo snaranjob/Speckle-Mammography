{
 "cells": [
  {
   "cell_type": "code",
   "execution_count": 10,
   "metadata": {},
   "outputs": [],
   "source": [
    "def txt_to_in(txt_filepath, in_filepath):\n",
    "    with open(txt_filepath, 'r') as file:\n",
    "        lines = file.readlines()\n",
    "    \n",
    "    with open(in_filepath, 'w') as file:\n",
    "        for line in lines:\n",
    "            if line.strip():  \n",
    "                columns = line.strip().split()\n",
    "\n",
    "                energy_bin_str = columns[0].replace(',', '.')\n",
    "                energy_bin = float(energy_bin_str)\n",
    "\n",
    "                if energy_bin < 10:  \n",
    "                    modified_energy_bin = f\"{energy_bin:.1f}0E-03\"\n",
    "                else:  \n",
    "                    modified_energy_bin = f\"{energy_bin / 10:.2f}E-02\"  \n",
    "\n",
    "                \n",
    "                photon_fluence = columns[1].replace(',', '.')\n",
    "\n",
    "                \n",
    "                file.write(f\"/gps/hist/point {modified_energy_bin}\\t{photon_fluence}\\n\")\n",
    "\n",
    "# Reemplaza '-.txt' con la ruta a tu archivo .txt y '-.in' con la ruta deseada para el archivo de salida\n",
    "txt_to_in('90kV42deg1Air0.5Be1Ag.txt', '90kV42deg1Air0.5Be1Ag.in')"
   ]
  }
 ],
 "metadata": {
  "kernelspec": {
   "display_name": "base",
   "language": "python",
   "name": "python3"
  },
  "language_info": {
   "codemirror_mode": {
    "name": "ipython",
    "version": 3
   },
   "file_extension": ".py",
   "mimetype": "text/x-python",
   "name": "python",
   "nbconvert_exporter": "python",
   "pygments_lexer": "ipython3",
   "version": "3.8.8"
  }
 },
 "nbformat": 4,
 "nbformat_minor": 2
}
