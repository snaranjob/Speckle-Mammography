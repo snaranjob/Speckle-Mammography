{
 "cells": [
  {
   "cell_type": "code",
   "execution_count": null,
   "metadata": {},
   "outputs": [],
   "source": [
    "def txt_to_in(txt_filepath, in_filepath):\n",
    "    with open(txt_filepath, 'r') as file:\n",
    "        lines = file.readlines()\n",
    "    \n",
    "    with open(in_filepath, 'w') as file:\n",
    "        for line in lines:\n",
    "            if line.strip():  # This will skip any empty lines\n",
    "                file.write('/gps/hist/point ' + line)\n",
    "\n",
    "# Replace 'input.txt' with the path to your .txt file and 'output.in' with the desired output path\n",
    "txt_to_in('28kV42deg1Air0.5Be0.5Mo.txt', '28kV42deg1Air0.5Be0.5Mo.in')"
   ]
  }
 ],
 "metadata": {
  "kernelspec": {
   "display_name": "base",
   "language": "python",
   "name": "python3"
  },
  "language_info": {
   "codemirror_mode": {
    "name": "ipython",
    "version": 3
   },
   "file_extension": ".py",
   "mimetype": "text/x-python",
   "name": "python",
   "nbconvert_exporter": "python",
   "pygments_lexer": "ipython3",
   "version": "3.8.8"
  }
 },
 "nbformat": 4,
 "nbformat_minor": 2
}
